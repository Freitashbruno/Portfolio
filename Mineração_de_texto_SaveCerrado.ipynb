{
  "nbformat": 4,
  "nbformat_minor": 0,
  "metadata": {
    "kernelspec": {
      "display_name": "Python 3",
      "language": "python",
      "name": "python3"
    },
    "language_info": {
      "codemirror_mode": {
        "name": "ipython",
        "version": 3
      },
      "file_extension": ".py",
      "mimetype": "text/x-python",
      "name": "python",
      "nbconvert_exporter": "python",
      "pygments_lexer": "ipython3",
      "version": "3.7.4"
    },
    "colab": {
      "name": "Mineração de texto SaveCerrado.ipynb",
      "provenance": [],
      "include_colab_link": true
    }
  },
  "cells": [
    {
      "cell_type": "markdown",
      "metadata": {
        "id": "view-in-github",
        "colab_type": "text"
      },
      "source": [
        "<a href=\"https://colab.research.google.com/github/Freitashbruno/Portfolio/blob/master/Minera%C3%A7%C3%A3o_de_texto_SaveCerrado.ipynb\" target=\"_parent\"><img src=\"https://colab.research.google.com/assets/colab-badge.svg\" alt=\"Open In Colab\"/></a>"
      ]
    },
    {
      "cell_type": "markdown",
      "metadata": {
        "id": "mBjJbeTsl_xe",
        "colab_type": "text"
      },
      "source": [
        "# Nuvem de palavras para buscas de usuários"
      ]
    },
    {
      "cell_type": "markdown",
      "metadata": {
        "id": "njM4nC0zl_xg",
        "colab_type": "text"
      },
      "source": [
        "Importação de bibliotecas"
      ]
    },
    {
      "cell_type": "markdown",
      "metadata": {
        "id": "WlDoO1pCl_xg",
        "colab_type": "text"
      },
      "source": [
        "O objeivo é usar os dados extraídos das buscas do Google Search Console do site SaveCerrado e produzir uma nuvem de palavras.\n",
        "A nuvem de palavras será usada na produção de textos no blog de acordo com as palavras mais usadas nas buscas feita pelos \n",
        "usuários e deixar os textos mais assertivos."
      ]
    },
    {
      "cell_type": "code",
      "metadata": {
        "id": "_buW8PHCl_xh",
        "colab_type": "code",
        "colab": {}
      },
      "source": [
        "import matplotlib.pyplot as plt\n",
        "import nltk\n",
        "\n"
      ],
      "execution_count": null,
      "outputs": []
    },
    {
      "cell_type": "code",
      "metadata": {
        "id": "tVJ73oUnl_xm",
        "colab_type": "code",
        "colab": {}
      },
      "source": [
        "from nltk.corpus import PlaintextCorpusReader"
      ],
      "execution_count": null,
      "outputs": []
    },
    {
      "cell_type": "code",
      "metadata": {
        "id": "wdkGdKkvl_xr",
        "colab_type": "code",
        "colab": {}
      },
      "source": [
        "from nltk.corpus import stopwords"
      ],
      "execution_count": null,
      "outputs": []
    },
    {
      "cell_type": "code",
      "metadata": {
        "id": "GUVUDL99l_xv",
        "colab_type": "code",
        "colab": {}
      },
      "source": [
        "from matplotlib.colors import ListedColormap"
      ],
      "execution_count": null,
      "outputs": []
    },
    {
      "cell_type": "code",
      "metadata": {
        "id": "0kOE9mm4l_xz",
        "colab_type": "code",
        "colab": {}
      },
      "source": [
        "from wordcloud import WordCloud"
      ],
      "execution_count": null,
      "outputs": []
    },
    {
      "cell_type": "code",
      "metadata": {
        "id": "J_Pwec5Rl_x3",
        "colab_type": "code",
        "colab": {}
      },
      "source": [
        "import string"
      ],
      "execution_count": null,
      "outputs": []
    },
    {
      "cell_type": "code",
      "metadata": {
        "id": "_gBRT3hGl_x7",
        "colab_type": "code",
        "colab": {}
      },
      "source": [
        "corpus = PlaintextCorpusReader('Buscas', '.*')"
      ],
      "execution_count": null,
      "outputs": []
    },
    {
      "cell_type": "code",
      "metadata": {
        "id": "svdGiyi1l_yA",
        "colab_type": "code",
        "colab": {}
      },
      "source": [
        "buscas = corpus.fileids()"
      ],
      "execution_count": null,
      "outputs": []
    },
    {
      "cell_type": "code",
      "metadata": {
        "id": "Jf903SZAl_yC",
        "colab_type": "code",
        "colab": {},
        "outputId": "d879d641-aef5-4c46-b454-c9044295bf0a"
      },
      "source": [
        "buscas[0]"
      ],
      "execution_count": null,
      "outputs": [
        {
          "output_type": "execute_result",
          "data": {
            "text/plain": [
              "'Consultas.txt'"
            ]
          },
          "metadata": {
            "tags": []
          },
          "execution_count": 11
        }
      ]
    },
    {
      "cell_type": "code",
      "metadata": {
        "id": "ojya-ET_l_yG",
        "colab_type": "code",
        "colab": {}
      },
      "source": [
        "todo_texto = corpus.raw()"
      ],
      "execution_count": null,
      "outputs": []
    },
    {
      "cell_type": "code",
      "metadata": {
        "id": "ckgojjtml_yJ",
        "colab_type": "code",
        "colab": {}
      },
      "source": [
        "palavras = corpus.words()"
      ],
      "execution_count": null,
      "outputs": []
    },
    {
      "cell_type": "markdown",
      "metadata": {
        "id": "QRD1nMGUl_yN",
        "colab_type": "text"
      },
      "source": [
        "# Consulta de quantidade de palavras"
      ]
    },
    {
      "cell_type": "code",
      "metadata": {
        "id": "gALc2JX4l_yN",
        "colab_type": "code",
        "colab": {},
        "outputId": "04b1b3ac-3748-4bf1-82a4-23cddd339520"
      },
      "source": [
        "len(palavras) #quantidade de palavras"
      ],
      "execution_count": null,
      "outputs": [
        {
          "output_type": "execute_result",
          "data": {
            "text/plain": [
              "2968"
            ]
          },
          "metadata": {
            "tags": []
          },
          "execution_count": 16
        }
      ]
    },
    {
      "cell_type": "code",
      "metadata": {
        "id": "N3gmdKF8l_yT",
        "colab_type": "code",
        "colab": {},
        "outputId": "4e7f04b5-3220-4190-c38f-96e6e6e7c210"
      },
      "source": [
        "stopwords.words('portuguese') #exibição de stopwords em português"
      ],
      "execution_count": null,
      "outputs": [
        {
          "output_type": "execute_result",
          "data": {
            "text/plain": [
              "['de',\n",
              " 'a',\n",
              " 'o',\n",
              " 'que',\n",
              " 'e',\n",
              " 'é',\n",
              " 'do',\n",
              " 'da',\n",
              " 'em',\n",
              " 'um',\n",
              " 'para',\n",
              " 'com',\n",
              " 'não',\n",
              " 'uma',\n",
              " 'os',\n",
              " 'no',\n",
              " 'se',\n",
              " 'na',\n",
              " 'por',\n",
              " 'mais',\n",
              " 'as',\n",
              " 'dos',\n",
              " 'como',\n",
              " 'mas',\n",
              " 'ao',\n",
              " 'ele',\n",
              " 'das',\n",
              " 'à',\n",
              " 'seu',\n",
              " 'sua',\n",
              " 'ou',\n",
              " 'quando',\n",
              " 'muito',\n",
              " 'nos',\n",
              " 'já',\n",
              " 'eu',\n",
              " 'também',\n",
              " 'só',\n",
              " 'pelo',\n",
              " 'pela',\n",
              " 'até',\n",
              " 'isso',\n",
              " 'ela',\n",
              " 'entre',\n",
              " 'depois',\n",
              " 'sem',\n",
              " 'mesmo',\n",
              " 'aos',\n",
              " 'seus',\n",
              " 'quem',\n",
              " 'nas',\n",
              " 'me',\n",
              " 'esse',\n",
              " 'eles',\n",
              " 'você',\n",
              " 'essa',\n",
              " 'num',\n",
              " 'nem',\n",
              " 'suas',\n",
              " 'meu',\n",
              " 'às',\n",
              " 'minha',\n",
              " 'numa',\n",
              " 'pelos',\n",
              " 'elas',\n",
              " 'qual',\n",
              " 'nós',\n",
              " 'lhe',\n",
              " 'deles',\n",
              " 'essas',\n",
              " 'esses',\n",
              " 'pelas',\n",
              " 'este',\n",
              " 'dele',\n",
              " 'tu',\n",
              " 'te',\n",
              " 'vocês',\n",
              " 'vos',\n",
              " 'lhes',\n",
              " 'meus',\n",
              " 'minhas',\n",
              " 'teu',\n",
              " 'tua',\n",
              " 'teus',\n",
              " 'tuas',\n",
              " 'nosso',\n",
              " 'nossa',\n",
              " 'nossos',\n",
              " 'nossas',\n",
              " 'dela',\n",
              " 'delas',\n",
              " 'esta',\n",
              " 'estes',\n",
              " 'estas',\n",
              " 'aquele',\n",
              " 'aquela',\n",
              " 'aqueles',\n",
              " 'aquelas',\n",
              " 'isto',\n",
              " 'aquilo',\n",
              " 'estou',\n",
              " 'está',\n",
              " 'estamos',\n",
              " 'estão',\n",
              " 'estive',\n",
              " 'esteve',\n",
              " 'estivemos',\n",
              " 'estiveram',\n",
              " 'estava',\n",
              " 'estávamos',\n",
              " 'estavam',\n",
              " 'estivera',\n",
              " 'estivéramos',\n",
              " 'esteja',\n",
              " 'estejamos',\n",
              " 'estejam',\n",
              " 'estivesse',\n",
              " 'estivéssemos',\n",
              " 'estivessem',\n",
              " 'estiver',\n",
              " 'estivermos',\n",
              " 'estiverem',\n",
              " 'hei',\n",
              " 'há',\n",
              " 'havemos',\n",
              " 'hão',\n",
              " 'houve',\n",
              " 'houvemos',\n",
              " 'houveram',\n",
              " 'houvera',\n",
              " 'houvéramos',\n",
              " 'haja',\n",
              " 'hajamos',\n",
              " 'hajam',\n",
              " 'houvesse',\n",
              " 'houvéssemos',\n",
              " 'houvessem',\n",
              " 'houver',\n",
              " 'houvermos',\n",
              " 'houverem',\n",
              " 'houverei',\n",
              " 'houverá',\n",
              " 'houveremos',\n",
              " 'houverão',\n",
              " 'houveria',\n",
              " 'houveríamos',\n",
              " 'houveriam',\n",
              " 'sou',\n",
              " 'somos',\n",
              " 'são',\n",
              " 'era',\n",
              " 'éramos',\n",
              " 'eram',\n",
              " 'fui',\n",
              " 'foi',\n",
              " 'fomos',\n",
              " 'foram',\n",
              " 'fora',\n",
              " 'fôramos',\n",
              " 'seja',\n",
              " 'sejamos',\n",
              " 'sejam',\n",
              " 'fosse',\n",
              " 'fôssemos',\n",
              " 'fossem',\n",
              " 'for',\n",
              " 'formos',\n",
              " 'forem',\n",
              " 'serei',\n",
              " 'será',\n",
              " 'seremos',\n",
              " 'serão',\n",
              " 'seria',\n",
              " 'seríamos',\n",
              " 'seriam',\n",
              " 'tenho',\n",
              " 'tem',\n",
              " 'temos',\n",
              " 'tém',\n",
              " 'tinha',\n",
              " 'tínhamos',\n",
              " 'tinham',\n",
              " 'tive',\n",
              " 'teve',\n",
              " 'tivemos',\n",
              " 'tiveram',\n",
              " 'tivera',\n",
              " 'tivéramos',\n",
              " 'tenha',\n",
              " 'tenhamos',\n",
              " 'tenham',\n",
              " 'tivesse',\n",
              " 'tivéssemos',\n",
              " 'tivessem',\n",
              " 'tiver',\n",
              " 'tivermos',\n",
              " 'tiverem',\n",
              " 'terei',\n",
              " 'terá',\n",
              " 'teremos',\n",
              " 'terão',\n",
              " 'teria',\n",
              " 'teríamos',\n",
              " 'teriam']"
            ]
          },
          "metadata": {
            "tags": []
          },
          "execution_count": 17
        }
      ]
    },
    {
      "cell_type": "code",
      "metadata": {
        "id": "DxeBn0izl_yW",
        "colab_type": "code",
        "colab": {}
      },
      "source": [
        "stops = stopwords.words('portuguese')"
      ],
      "execution_count": null,
      "outputs": []
    },
    {
      "cell_type": "code",
      "metadata": {
        "id": "yKhyWMual_yZ",
        "colab_type": "code",
        "colab": {}
      },
      "source": [
        "mapa_cores = ListedColormap(['orange', 'green', 'red', 'magenta'])"
      ],
      "execution_count": null,
      "outputs": []
    },
    {
      "cell_type": "code",
      "metadata": {
        "id": "3yHRob3sl_yd",
        "colab_type": "code",
        "colab": {}
      },
      "source": [
        "nuvem = WordCloud(background_color = 'white',\n",
        "                  colormap = mapa_cores,\n",
        "                  stopwords = stops,\n",
        "                  max_words = 100)"
      ],
      "execution_count": null,
      "outputs": []
    },
    {
      "cell_type": "code",
      "metadata": {
        "id": "LskkNxnol_yg",
        "colab_type": "code",
        "colab": {},
        "outputId": "aedc64fe-73db-4998-fe12-01d905dbf80a"
      },
      "source": [
        "nuvem.generate(todo_texto)"
      ],
      "execution_count": null,
      "outputs": [
        {
          "output_type": "execute_result",
          "data": {
            "text/plain": [
              "<wordcloud.wordcloud.WordCloud at 0xe1cecb9288>"
            ]
          },
          "metadata": {
            "tags": []
          },
          "execution_count": 21
        }
      ]
    },
    {
      "cell_type": "code",
      "metadata": {
        "id": "4KsjT_ewl_yk",
        "colab_type": "code",
        "colab": {},
        "outputId": "58cf18d4-2ae6-4373-f870-00c84a703b9f"
      },
      "source": [
        "plt.imshow(nuvem)"
      ],
      "execution_count": null,
      "outputs": [
        {
          "output_type": "execute_result",
          "data": {
            "text/plain": [
              "<matplotlib.image.AxesImage at 0xe1ceccc408>"
            ]
          },
          "metadata": {
            "tags": []
          },
          "execution_count": 22
        },
        {
          "output_type": "display_data",
          "data": {
            "image/png": "[encoded data removed]",
            "text/plain": [
              "<Figure size 432x288 with 1 Axes>"
            ]
          },
          "metadata": {
            "tags": [],
            "needs_background": "light"
          }
        }
      ]
    },
    {
      "cell_type": "code",
      "metadata": {
        "id": "Su9VoKwql_yn",
        "colab_type": "code",
        "colab": {},
        "outputId": "143a4a19-1334-44d7-93e4-2c8582f7faae"
      },
      "source": [
        "len(palavras) # quantidade de palavras"
      ],
      "execution_count": null,
      "outputs": [
        {
          "output_type": "execute_result",
          "data": {
            "text/plain": [
              "2968"
            ]
          },
          "metadata": {
            "tags": []
          },
          "execution_count": 23
        }
      ]
    },
    {
      "cell_type": "markdown",
      "metadata": {
        "id": "m-IF6JKUl_yp",
        "colab_type": "text"
      },
      "source": [
        "# Exclusão de Stopwords"
      ]
    },
    {
      "cell_type": "code",
      "metadata": {
        "id": "TfT4VMhal_yq",
        "colab_type": "code",
        "colab": {}
      },
      "source": [
        "palavras_semstop = [p for p in palavras if p not in stops]"
      ],
      "execution_count": null,
      "outputs": []
    },
    {
      "cell_type": "code",
      "metadata": {
        "id": "Ue040v8tl_yt",
        "colab_type": "code",
        "colab": {},
        "outputId": "e8ebd0b9-380e-4bfd-8f69-7d5ac674e084"
      },
      "source": [
        "len(palavras_semstop) # total de palavras sem stopwords"
      ],
      "execution_count": null,
      "outputs": [
        {
          "output_type": "execute_result",
          "data": {
            "text/plain": [
              "2016"
            ]
          },
          "metadata": {
            "tags": []
          },
          "execution_count": 25
        }
      ]
    },
    {
      "cell_type": "markdown",
      "metadata": {
        "id": "_WbfXWsQl_yx",
        "colab_type": "text"
      },
      "source": [
        "# Exlusão de pontuação"
      ]
    },
    {
      "cell_type": "code",
      "metadata": {
        "id": "PCtzMD4Ml_yx",
        "colab_type": "code",
        "colab": {}
      },
      "source": [
        "palavras_sem_pontuacao = [p for p in palavras_semstop if p not in string.punctuation]"
      ],
      "execution_count": null,
      "outputs": []
    },
    {
      "cell_type": "code",
      "metadata": {
        "id": "SQDUvfwYl_y0",
        "colab_type": "code",
        "colab": {},
        "outputId": "863abb79-1907-4245-de7b-65f7e8759ce8"
      },
      "source": [
        "len(palavras_sem_pontuacao)"
      ],
      "execution_count": null,
      "outputs": [
        {
          "output_type": "execute_result",
          "data": {
            "text/plain": [
              "1977"
            ]
          },
          "metadata": {
            "tags": []
          },
          "execution_count": 27
        }
      ]
    },
    {
      "cell_type": "markdown",
      "metadata": {
        "id": "EDJu3lspl_y3",
        "colab_type": "text"
      },
      "source": [
        "# Finalização da filtragem da nuvem de palavras"
      ]
    },
    {
      "cell_type": "code",
      "metadata": {
        "id": "GdZHUZ00l_y3",
        "colab_type": "code",
        "colab": {}
      },
      "source": [
        "frequencia = nltk.FreqDist(palavras_sem_pontuacao)"
      ],
      "execution_count": null,
      "outputs": []
    },
    {
      "cell_type": "code",
      "metadata": {
        "id": "tU03CGRxl_y6",
        "colab_type": "code",
        "colab": {}
      },
      "source": [
        "mais_comuns = frequencia.most_common(100)"
      ],
      "execution_count": null,
      "outputs": []
    },
    {
      "cell_type": "code",
      "metadata": {
        "id": "WyqruQC5l_y-",
        "colab_type": "code",
        "colab": {},
        "outputId": "2d083955-e02b-454f-a08e-1fda641f2ad1"
      },
      "source": [
        "plt.imshow(nuvem)"
      ],
      "execution_count": null,
      "outputs": [
        {
          "output_type": "execute_result",
          "data": {
            "text/plain": [
              "<matplotlib.image.AxesImage at 0xe1cee08a48>"
            ]
          },
          "metadata": {
            "tags": []
          },
          "execution_count": 30
        },
        {
          "output_type": "display_data",
          "data": {
            "image/png": "[encoded data removed]",
            "text/plain": [
              "<Figure size 432x288 with 1 Axes>"
            ]
          },
          "metadata": {
            "tags": [],
            "needs_background": "light"
          }
        }
      ]
    },
    {
      "cell_type": "markdown",
      "metadata": {
        "id": "iP-tyPdGmFfj",
        "colab_type": "text"
      },
      "source": [
        "## Não houve mudanças de uma nuvem para outra, porém temos a certeza que a nuvem não possui stopwords e foi filtrada de dados insignificantes"
      ]
    },
    {
      "cell_type": "code",
      "metadata": {
        "id": "WHJI2L2vl_zB",
        "colab_type": "code",
        "colab": {}
      },
      "source": [
        ""
      ],
      "execution_count": null,
      "outputs": []
    }
  ]
}